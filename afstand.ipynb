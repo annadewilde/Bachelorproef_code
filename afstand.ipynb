{
 "cells": [
  {
   "cell_type": "code",
   "execution_count": 58,
   "metadata": {},
   "outputs": [],
   "source": [
    "import pandas as pd\n",
    "df = pd.read_csv('MonkeyProof_postcodes_developer.csv', sep=';')\n",
    "\n",
    "df = df.dropna(subset=['latitude', 'longitude'])\n",
    "\n",
    "df = df.drop(columns=['link', 'gemeente'])\n",
    "\n",
    "df = df.drop_duplicates(subset=['postcode'], keep='first')\n",
    "\n",
    "df.to_csv('postcodes.csv', index=False, sep=';')\n"
   ]
  },
  {
   "cell_type": "code",
   "execution_count": 59,
   "metadata": {},
   "outputs": [],
   "source": [
    "df = pd.read_csv('af - kopie.csv', sep=';')\n",
    "\n",
    "df_postcodes = pd.read_csv('postcodes.csv', sep=';')"
   ]
  },
  {
   "cell_type": "code",
   "execution_count": 61,
   "metadata": {},
   "outputs": [],
   "source": [
    "import numpy as np\n",
    "df['patient_postcode'] = df['patient_postcode'].replace('ZZNF', 0)\n",
    "df['afspraak_postcode'] = df['afspraak_postcode'].replace('ZZNF', 0)\n",
    "\n",
    "df['afspraak_postcode'] = df['afspraak_postcode'].fillna(0)\n",
    "df['patient_postcode'] = df['patient_postcode'].fillna(0)"
   ]
  },
  {
   "cell_type": "code",
   "execution_count": 62,
   "metadata": {},
   "outputs": [],
   "source": [
    "df['patient_postcode'] = df['patient_postcode'].astype(int)\n",
    "df['afspraak_postcode'] = df['afspraak_postcode'].astype(int)"
   ]
  },
  {
   "cell_type": "code",
   "execution_count": 63,
   "metadata": {},
   "outputs": [],
   "source": [
    "df = df.merge(df_postcodes, left_on='patient_postcode', right_on='postcode', how='left')\n",
    "df = df.rename(columns={'latitude': 'patient_latitude', 'longitude': 'patient_longitude'})\n",
    "df.head()\n",
    "\n",
    "df = df.merge(df_postcodes, left_on='afspraak_postcode', right_on='postcode', how='left')\n",
    "df = df.rename(columns={'latitude': 'afspraak_latitude', 'longitude': 'afspraak_longitude'})"
   ]
  },
  {
   "cell_type": "code",
   "execution_count": null,
   "metadata": {},
   "outputs": [],
   "source": [
    "import math\n",
    "\n",
    "def calculate_distance(row):\n",
    "    x1 = row['afspraak_longitude']\n",
    "    y1 = row['afspraak_latitude']\n",
    "    x2 = row['patient_longitude']\n",
    "    y2 = row['patient_latitude']\n",
    "    return math.sqrt((x2 - x1)**2 + (y2 - y1)**2)\n",
    "\n",
    "df['afstand'] = df.apply(calculate_distance, axis=1)"
   ]
  },
  {
   "cell_type": "code",
   "execution_count": null,
   "metadata": {},
   "outputs": [],
   "source": [
    "df2 = pd.read_csv('af - kopie.csv', sep=';')\n",
    "\n",
    "df2 = df2.merge(df[['afspraak_id', 'afstand']], on='afspraak_id', how='left')\n",
    "\n",
    "df2.head()\n"
   ]
  },
  {
   "attachments": {
    "image.png": {
     "image/png": "[encoded data removed]"
    }
   },
   "cell_type": "markdown",
   "metadata": {},
   "source": [
    "![image.png](attachment:image.png)"
   ]
  },
  {
   "cell_type": "code",
   "execution_count": 68,
   "metadata": {},
   "outputs": [],
   "source": [
    "df2.to_csv('afsprakenn.csv', index=False, sep=';')"
   ]
  }
 ],
 "metadata": {
  "kernelspec": {
   "display_name": "Python 3",
   "language": "python",
   "name": "python3"
  },
  "language_info": {
   "codemirror_mode": {
    "name": "ipython",
    "version": 3
   },
   "file_extension": ".py",
   "mimetype": "text/x-python",
   "name": "python",
   "nbconvert_exporter": "python",
   "pygments_lexer": "ipython3",
   "version": "3.9.12"
  }
 },
 "nbformat": 4,
 "nbformat_minor": 2
}
