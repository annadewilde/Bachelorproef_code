{
 "cells": [
  {
   "cell_type": "markdown",
   "metadata": {},
   "source": [
    "#### Libraries importeren"
   ]
  },
  {
   "cell_type": "code",
   "execution_count": 22,
   "metadata": {},
   "outputs": [],
   "source": [
    "import sys\n",
    "assert sys.version_info >= (3, 5)\n",
    "import sklearn\n",
    "assert sklearn.__version__ >= \"0.20\"\n",
    "import numpy as np\n",
    "import pandas as pd\n",
    "import os\n",
    "%matplotlib inline\n",
    "import matplotlib as mpl\n",
    "import matplotlib.pyplot as plt\n",
    "\n",
    "pd.set_option('display.max_columns', None)\n",
    "pd.set_option('display.max_rows', None)"
   ]
  },
  {
   "cell_type": "markdown",
   "metadata": {},
   "source": [
    "#### Data ophalen"
   ]
  },
  {
   "cell_type": "code",
   "execution_count": 23,
   "metadata": {},
   "outputs": [
    {
     "name": "stderr",
     "output_type": "stream",
     "text": [
      "C:\\Users\\anna2\\AppData\\Local\\Temp\\ipykernel_20892\\523483477.py:1: DtypeWarning: Columns (23,25) have mixed types. Specify dtype option on import or set low_memory=False.\n",
      "  df=pd.read_csv(\"../data/afsprakenn.csv\", sep=';')\n"
     ]
    },
    {
     "data": {
      "text/html": [
       "<div>\n",
       "<style scoped>\n",
       "    .dataframe tbody tr th:only-of-type {\n",
       "        vertical-align: middle;\n",
       "    }\n",
       "\n",
       "    .dataframe tbody tr th {\n",
       "        vertical-align: top;\n",
       "    }\n",
       "\n",
       "    .dataframe thead th {\n",
       "        text-align: right;\n",
       "    }\n",
       "</style>\n",
       "<table border=\"1\" class=\"dataframe\">\n",
       "  <thead>\n",
       "    <tr style=\"text-align: right;\">\n",
       "      <th></th>\n",
       "      <th>afspraak_id</th>\n",
       "      <th>afspraak_geannuleerd</th>\n",
       "      <th>afspraak_beginuur</th>\n",
       "      <th>afspraak_leadTime</th>\n",
       "      <th>afspraak_duur</th>\n",
       "      <th>afspraak_noShow</th>\n",
       "      <th>afspraak_aantalHerplanningen</th>\n",
       "      <th>afspraak_beschrijving</th>\n",
       "      <th>afspraak_specialisme</th>\n",
       "      <th>afspraak_arts</th>\n",
       "      <th>patient_aantalEerdereAfspraken</th>\n",
       "      <th>patient_dagenSindsVorigeAfspraak</th>\n",
       "      <th>patient_aantalAnnulaties</th>\n",
       "      <th>patient_aantalLaattijdigAnnulaties</th>\n",
       "      <th>patient_aantalAfsprakenDieDag</th>\n",
       "      <th>patient_stiptheid</th>\n",
       "      <th>patient_aantalNoShows</th>\n",
       "      <th>afspraak_postcode</th>\n",
       "      <th>afspraak_weekdag</th>\n",
       "      <th>afspraak_maand</th>\n",
       "      <th>afspraak_isFeestdag</th>\n",
       "      <th>afspraak_isSchoolvakantie</th>\n",
       "      <th>patient_leeftijd</th>\n",
       "      <th>patient_geslacht</th>\n",
       "      <th>patient_dubieuzeBetaler</th>\n",
       "      <th>patient_burgerlijkeStaat</th>\n",
       "      <th>patient_postcode</th>\n",
       "      <th>patient_nieuw</th>\n",
       "      <th>afstand</th>\n",
       "    </tr>\n",
       "  </thead>\n",
       "  <tbody>\n",
       "    <tr>\n",
       "      <th>0</th>\n",
       "      <td>39564122</td>\n",
       "      <td>1</td>\n",
       "      <td>8</td>\n",
       "      <td>42</td>\n",
       "      <td>60</td>\n",
       "      <td>1</td>\n",
       "      <td>0</td>\n",
       "      <td>214</td>\n",
       "      <td>10</td>\n",
       "      <td>18932</td>\n",
       "      <td>0</td>\n",
       "      <td>NaN</td>\n",
       "      <td>NaN</td>\n",
       "      <td>NaN</td>\n",
       "      <td>2</td>\n",
       "      <td>NaN</td>\n",
       "      <td>NaN</td>\n",
       "      <td>9000.0</td>\n",
       "      <td>5</td>\n",
       "      <td>6</td>\n",
       "      <td>0</td>\n",
       "      <td>0</td>\n",
       "      <td>122.0</td>\n",
       "      <td>1</td>\n",
       "      <td>0.0</td>\n",
       "      <td>0</td>\n",
       "      <td>ZZNF</td>\n",
       "      <td>0</td>\n",
       "      <td>NaN</td>\n",
       "    </tr>\n",
       "    <tr>\n",
       "      <th>1</th>\n",
       "      <td>39564123</td>\n",
       "      <td>1</td>\n",
       "      <td>9</td>\n",
       "      <td>42</td>\n",
       "      <td>20</td>\n",
       "      <td>1</td>\n",
       "      <td>0</td>\n",
       "      <td>215</td>\n",
       "      <td>10</td>\n",
       "      <td>6310</td>\n",
       "      <td>1</td>\n",
       "      <td>0.0</td>\n",
       "      <td>1.0</td>\n",
       "      <td>0.0</td>\n",
       "      <td>2</td>\n",
       "      <td>NaN</td>\n",
       "      <td>1.0</td>\n",
       "      <td>9000.0</td>\n",
       "      <td>5</td>\n",
       "      <td>6</td>\n",
       "      <td>0</td>\n",
       "      <td>0</td>\n",
       "      <td>122.0</td>\n",
       "      <td>1</td>\n",
       "      <td>0.0</td>\n",
       "      <td>0</td>\n",
       "      <td>ZZNF</td>\n",
       "      <td>0</td>\n",
       "      <td>NaN</td>\n",
       "    </tr>\n",
       "    <tr>\n",
       "      <th>2</th>\n",
       "      <td>40387836</td>\n",
       "      <td>0</td>\n",
       "      <td>16</td>\n",
       "      <td>27</td>\n",
       "      <td>15</td>\n",
       "      <td>1</td>\n",
       "      <td>0</td>\n",
       "      <td>266</td>\n",
       "      <td>10</td>\n",
       "      <td>7692</td>\n",
       "      <td>0</td>\n",
       "      <td>NaN</td>\n",
       "      <td>NaN</td>\n",
       "      <td>NaN</td>\n",
       "      <td>1</td>\n",
       "      <td>NaN</td>\n",
       "      <td>NaN</td>\n",
       "      <td>9000.0</td>\n",
       "      <td>1</td>\n",
       "      <td>6</td>\n",
       "      <td>0</td>\n",
       "      <td>0</td>\n",
       "      <td>22.0</td>\n",
       "      <td>1</td>\n",
       "      <td>0.0</td>\n",
       "      <td>1</td>\n",
       "      <td>9030</td>\n",
       "      <td>0</td>\n",
       "      <td>0.048794</td>\n",
       "    </tr>\n",
       "    <tr>\n",
       "      <th>3</th>\n",
       "      <td>50859232</td>\n",
       "      <td>0</td>\n",
       "      <td>10</td>\n",
       "      <td>93</td>\n",
       "      <td>15</td>\n",
       "      <td>0</td>\n",
       "      <td>0</td>\n",
       "      <td>266</td>\n",
       "      <td>114</td>\n",
       "      <td>7692</td>\n",
       "      <td>1</td>\n",
       "      <td>430.0</td>\n",
       "      <td>0.0</td>\n",
       "      <td>0.0</td>\n",
       "      <td>1</td>\n",
       "      <td>NaN</td>\n",
       "      <td>1.0</td>\n",
       "      <td>9000.0</td>\n",
       "      <td>4</td>\n",
       "      <td>8</td>\n",
       "      <td>0</td>\n",
       "      <td>1</td>\n",
       "      <td>23.0</td>\n",
       "      <td>1</td>\n",
       "      <td>0.0</td>\n",
       "      <td>1</td>\n",
       "      <td>9030</td>\n",
       "      <td>0</td>\n",
       "      <td>0.048794</td>\n",
       "    </tr>\n",
       "    <tr>\n",
       "      <th>4</th>\n",
       "      <td>31478199</td>\n",
       "      <td>0</td>\n",
       "      <td>9</td>\n",
       "      <td>10</td>\n",
       "      <td>15</td>\n",
       "      <td>0</td>\n",
       "      <td>0</td>\n",
       "      <td>1141</td>\n",
       "      <td>126</td>\n",
       "      <td>18924</td>\n",
       "      <td>0</td>\n",
       "      <td>NaN</td>\n",
       "      <td>NaN</td>\n",
       "      <td>NaN</td>\n",
       "      <td>1</td>\n",
       "      <td>NaN</td>\n",
       "      <td>NaN</td>\n",
       "      <td>9000.0</td>\n",
       "      <td>1</td>\n",
       "      <td>11</td>\n",
       "      <td>0</td>\n",
       "      <td>0</td>\n",
       "      <td>21.0</td>\n",
       "      <td>1</td>\n",
       "      <td>0.0</td>\n",
       "      <td>5</td>\n",
       "      <td>2220</td>\n",
       "      <td>0</td>\n",
       "      <td>1.003979</td>\n",
       "    </tr>\n",
       "  </tbody>\n",
       "</table>\n",
       "</div>"
      ],
      "text/plain": [
       "   afspraak_id  afspraak_geannuleerd  afspraak_beginuur  afspraak_leadTime  \\\n",
       "0     39564122                     1                  8                 42   \n",
       "1     39564123                     1                  9                 42   \n",
       "2     40387836                     0                 16                 27   \n",
       "3     50859232                     0                 10                 93   \n",
       "4     31478199                     0                  9                 10   \n",
       "\n",
       "   afspraak_duur  afspraak_noShow  afspraak_aantalHerplanningen  \\\n",
       "0             60                1                             0   \n",
       "1             20                1                             0   \n",
       "2             15                1                             0   \n",
       "3             15                0                             0   \n",
       "4             15                0                             0   \n",
       "\n",
       "   afspraak_beschrijving  afspraak_specialisme  afspraak_arts  \\\n",
       "0                    214                    10          18932   \n",
       "1                    215                    10           6310   \n",
       "2                    266                    10           7692   \n",
       "3                    266                   114           7692   \n",
       "4                   1141                   126          18924   \n",
       "\n",
       "   patient_aantalEerdereAfspraken  patient_dagenSindsVorigeAfspraak  \\\n",
       "0                               0                               NaN   \n",
       "1                               1                               0.0   \n",
       "2                               0                               NaN   \n",
       "3                               1                             430.0   \n",
       "4                               0                               NaN   \n",
       "\n",
       "   patient_aantalAnnulaties  patient_aantalLaattijdigAnnulaties  \\\n",
       "0                       NaN                                 NaN   \n",
       "1                       1.0                                 0.0   \n",
       "2                       NaN                                 NaN   \n",
       "3                       0.0                                 0.0   \n",
       "4                       NaN                                 NaN   \n",
       "\n",
       "   patient_aantalAfsprakenDieDag  patient_stiptheid  patient_aantalNoShows  \\\n",
       "0                              2                NaN                    NaN   \n",
       "1                              2                NaN                    1.0   \n",
       "2                              1                NaN                    NaN   \n",
       "3                              1                NaN                    1.0   \n",
       "4                              1                NaN                    NaN   \n",
       "\n",
       "   afspraak_postcode  afspraak_weekdag  afspraak_maand  afspraak_isFeestdag  \\\n",
       "0             9000.0                 5               6                    0   \n",
       "1             9000.0                 5               6                    0   \n",
       "2             9000.0                 1               6                    0   \n",
       "3             9000.0                 4               8                    0   \n",
       "4             9000.0                 1              11                    0   \n",
       "\n",
       "   afspraak_isSchoolvakantie  patient_leeftijd patient_geslacht  \\\n",
       "0                          0             122.0                1   \n",
       "1                          0             122.0                1   \n",
       "2                          0              22.0                1   \n",
       "3                          1              23.0                1   \n",
       "4                          0              21.0                1   \n",
       "\n",
       "   patient_dubieuzeBetaler patient_burgerlijkeStaat patient_postcode  \\\n",
       "0                      0.0                        0             ZZNF   \n",
       "1                      0.0                        0             ZZNF   \n",
       "2                      0.0                        1             9030   \n",
       "3                      0.0                        1             9030   \n",
       "4                      0.0                        5             2220   \n",
       "\n",
       "   patient_nieuw   afstand  \n",
       "0              0       NaN  \n",
       "1              0       NaN  \n",
       "2              0  0.048794  \n",
       "3              0  0.048794  \n",
       "4              0  1.003979  "
      ]
     },
     "execution_count": 23,
     "metadata": {},
     "output_type": "execute_result"
    }
   ],
   "source": [
    "df=pd.read_csv(\"../data/afsprakenn.csv\", sep=';')\n",
    "df.head()"
   ]
  },
  {
   "cell_type": "code",
   "execution_count": 24,
   "metadata": {},
   "outputs": [
    {
     "name": "stdout",
     "output_type": "stream",
     "text": [
      "<class 'pandas.core.frame.DataFrame'>\n",
      "RangeIndex: 1988510 entries, 0 to 1988509\n",
      "Data columns (total 29 columns):\n",
      " #   Column                              Dtype  \n",
      "---  ------                              -----  \n",
      " 0   afspraak_id                         int64  \n",
      " 1   afspraak_geannuleerd                int64  \n",
      " 2   afspraak_beginuur                   int64  \n",
      " 3   afspraak_leadTime                   int64  \n",
      " 4   afspraak_duur                       int64  \n",
      " 5   afspraak_noShow                     int64  \n",
      " 6   afspraak_aantalHerplanningen        int64  \n",
      " 7   afspraak_beschrijving               int64  \n",
      " 8   afspraak_specialisme                int64  \n",
      " 9   afspraak_arts                       int64  \n",
      " 10  patient_aantalEerdereAfspraken      int64  \n",
      " 11  patient_dagenSindsVorigeAfspraak    float64\n",
      " 12  patient_aantalAnnulaties            float64\n",
      " 13  patient_aantalLaattijdigAnnulaties  float64\n",
      " 14  patient_aantalAfsprakenDieDag       int64  \n",
      " 15  patient_stiptheid                   float64\n",
      " 16  patient_aantalNoShows               float64\n",
      " 17  afspraak_postcode                   float64\n",
      " 18  afspraak_weekdag                    int64  \n",
      " 19  afspraak_maand                      int64  \n",
      " 20  afspraak_isFeestdag                 int64  \n",
      " 21  afspraak_isSchoolvakantie           int64  \n",
      " 22  patient_leeftijd                    float64\n",
      " 23  patient_geslacht                    object \n",
      " 24  patient_dubieuzeBetaler             float64\n",
      " 25  patient_burgerlijkeStaat            object \n",
      " 26  patient_postcode                    object \n",
      " 27  patient_nieuw                       int64  \n",
      " 28  afstand                             float64\n",
      "dtypes: float64(9), int64(17), object(3)\n",
      "memory usage: 440.0+ MB\n"
     ]
    }
   ],
   "source": [
    "df.info()"
   ]
  },
  {
   "cell_type": "markdown",
   "metadata": {},
   "source": [
    "#### Data cleanen"
   ]
  },
  {
   "cell_type": "code",
   "execution_count": 25,
   "metadata": {},
   "outputs": [],
   "source": [
    "# geannuleerde afspraken verwijderen (0= niet geannuleerd, 1 = geannuleerd, 2 =\"laattijdig\" geannuleerd)\n",
    "df = df.drop(df[df['afspraak_geannuleerd'] == 1].index)\n",
    "df = df.drop(df[df['afspraak_geannuleerd'] == 2].index)\n",
    "\n",
    "df = df.drop(columns=['afspraak_geannuleerd'])"
   ]
  },
  {
   "cell_type": "code",
   "execution_count": 26,
   "metadata": {},
   "outputs": [],
   "source": [
    "df = df.drop(['afspraak_postcode', 'patient_postcode', 'afspraak_isFeestdag'], axis=1)"
   ]
  },
  {
   "cell_type": "markdown",
   "metadata": {},
   "source": [
    "##### Lege velden invullen"
   ]
  },
  {
   "cell_type": "code",
   "execution_count": 27,
   "metadata": {},
   "outputs": [],
   "source": [
    "df['patient_aantalNoShows'] = df['patient_aantalNoShows'].fillna(0)"
   ]
  },
  {
   "cell_type": "code",
   "execution_count": 28,
   "metadata": {},
   "outputs": [],
   "source": [
    "# df['patient_eersteBetaler_categorie'] = df['patient_eersteBetaler_categorie'].fillna('N')\n",
    "# df['patient_eersteBetaler_categorie'].value_counts()"
   ]
  },
  {
   "cell_type": "code",
   "execution_count": 29,
   "metadata": {},
   "outputs": [],
   "source": [
    "# df['patient_tweedeBetaler_categorie'] = df['patient_tweedeBetaler_categorie'].fillna('N')\n",
    "# df['patient_tweedeBetaler_categorie'].value_counts()"
   ]
  },
  {
   "cell_type": "code",
   "execution_count": 31,
   "metadata": {},
   "outputs": [
    {
     "data": {
      "text/plain": [
       "1    994057\n",
       "0    724893\n",
       "2         4\n",
       "Name: patient_geslacht, dtype: int64"
      ]
     },
     "execution_count": 31,
     "metadata": {},
     "output_type": "execute_result"
    }
   ],
   "source": [
    "df['patient_geslacht'].value_counts()"
   ]
  },
  {
   "cell_type": "code",
   "execution_count": 32,
   "metadata": {},
   "outputs": [],
   "source": [
    "df['patient_stiptheid'] = df['patient_stiptheid'].fillna(df['patient_stiptheid'].median())"
   ]
  },
  {
   "cell_type": "code",
   "execution_count": 33,
   "metadata": {},
   "outputs": [],
   "source": [
    "df['afstand'] = df['afstand'].fillna(df['afstand'].mean())"
   ]
  },
  {
   "cell_type": "code",
   "execution_count": 34,
   "metadata": {},
   "outputs": [],
   "source": [
    "df['patient_aantalLaattijdigAnnulaties'] = df['patient_aantalLaattijdigAnnulaties'].fillna(0)"
   ]
  },
  {
   "cell_type": "code",
   "execution_count": 35,
   "metadata": {},
   "outputs": [],
   "source": [
    "df['patient_aantalAnnulaties'] = df['patient_aantalAnnulaties'].fillna(0)"
   ]
  },
  {
   "cell_type": "code",
   "execution_count": 36,
   "metadata": {},
   "outputs": [],
   "source": [
    "df['patient_dagenSindsVorigeAfspraak'] = df['patient_dagenSindsVorigeAfspraak'].fillna(-1)"
   ]
  },
  {
   "cell_type": "code",
   "execution_count": 37,
   "metadata": {},
   "outputs": [],
   "source": [
    "df = df.drop(df[df['patient_leeftijd'].isnull()].index)"
   ]
  },
  {
   "cell_type": "code",
   "execution_count": 38,
   "metadata": {},
   "outputs": [
    {
     "data": {
      "text/html": [
       "<div>\n",
       "<style scoped>\n",
       "    .dataframe tbody tr th:only-of-type {\n",
       "        vertical-align: middle;\n",
       "    }\n",
       "\n",
       "    .dataframe tbody tr th {\n",
       "        vertical-align: top;\n",
       "    }\n",
       "\n",
       "    .dataframe thead th {\n",
       "        text-align: right;\n",
       "    }\n",
       "</style>\n",
       "<table border=\"1\" class=\"dataframe\">\n",
       "  <thead>\n",
       "    <tr style=\"text-align: right;\">\n",
       "      <th></th>\n",
       "      <th>afspraak_id</th>\n",
       "      <th>afspraak_beginuur</th>\n",
       "      <th>afspraak_leadTime</th>\n",
       "      <th>afspraak_duur</th>\n",
       "      <th>afspraak_noShow</th>\n",
       "      <th>afspraak_aantalHerplanningen</th>\n",
       "      <th>afspraak_beschrijving</th>\n",
       "      <th>afspraak_specialisme</th>\n",
       "      <th>afspraak_arts</th>\n",
       "      <th>patient_aantalEerdereAfspraken</th>\n",
       "      <th>patient_dagenSindsVorigeAfspraak</th>\n",
       "      <th>patient_aantalAnnulaties</th>\n",
       "      <th>patient_aantalLaattijdigAnnulaties</th>\n",
       "      <th>patient_aantalAfsprakenDieDag</th>\n",
       "      <th>patient_stiptheid</th>\n",
       "      <th>patient_aantalNoShows</th>\n",
       "      <th>afspraak_weekdag</th>\n",
       "      <th>afspraak_maand</th>\n",
       "      <th>afspraak_isSchoolvakantie</th>\n",
       "      <th>patient_leeftijd</th>\n",
       "      <th>patient_geslacht</th>\n",
       "      <th>patient_dubieuzeBetaler</th>\n",
       "      <th>patient_burgerlijkeStaat</th>\n",
       "      <th>patient_nieuw</th>\n",
       "      <th>afstand</th>\n",
       "    </tr>\n",
       "  </thead>\n",
       "  <tbody>\n",
       "  </tbody>\n",
       "</table>\n",
       "</div>"
      ],
      "text/plain": [
       "Empty DataFrame\n",
       "Columns: [afspraak_id, afspraak_beginuur, afspraak_leadTime, afspraak_duur, afspraak_noShow, afspraak_aantalHerplanningen, afspraak_beschrijving, afspraak_specialisme, afspraak_arts, patient_aantalEerdereAfspraken, patient_dagenSindsVorigeAfspraak, patient_aantalAnnulaties, patient_aantalLaattijdigAnnulaties, patient_aantalAfsprakenDieDag, patient_stiptheid, patient_aantalNoShows, afspraak_weekdag, afspraak_maand, afspraak_isSchoolvakantie, patient_leeftijd, patient_geslacht, patient_dubieuzeBetaler, patient_burgerlijkeStaat, patient_nieuw, afstand]\n",
       "Index: []"
      ]
     },
     "execution_count": 38,
     "metadata": {},
     "output_type": "execute_result"
    }
   ],
   "source": [
    "df[df.isnull().any(axis=1)].head(100)"
   ]
  },
  {
   "cell_type": "markdown",
   "metadata": {},
   "source": [
    "#### Nuttige kolommen toevoegen"
   ]
  },
  {
   "cell_type": "code",
   "execution_count": 39,
   "metadata": {},
   "outputs": [],
   "source": [
    "df['patient_noShow_percentage'] = df['patient_aantalNoShows'] / df['patient_aantalEerdereAfspraken'] * 100\n",
    "df['patient_laattijdigeAnnulatie_percentage'] = df['patient_aantalLaattijdigAnnulaties'] / df['patient_aantalEerdereAfspraken'] * 100\n",
    "\n",
    "df['patient_noShow_percentage'] = df['patient_noShow_percentage'].fillna(0)\n",
    "df['patient_laattijdigeAnnulatie_percentage'] = df['patient_laattijdigeAnnulatie_percentage'].fillna(0)\n",
    "\n",
    "df['patient_noShow_percentage'] = df['patient_noShow_percentage'].round(2)\n",
    "df['patient_laattijdigeAnnulatie_percentage'] = df['patient_laattijdigeAnnulatie_percentage'].round(2)\n"
   ]
  },
  {
   "cell_type": "code",
   "execution_count": 40,
   "metadata": {},
   "outputs": [],
   "source": [
    "df['afspraak_isWeekend'] = df['afspraak_weekdag']>5\n",
    "df['afspraak_isWeekend'] = df['afspraak_isWeekend'].astype(int)"
   ]
  },
  {
   "cell_type": "code",
   "execution_count": 41,
   "metadata": {},
   "outputs": [],
   "source": [
    "df.to_csv('../data/afspraken_cleaned.csv', sep=';', index=False)"
   ]
  }
 ],
 "metadata": {
  "kernelspec": {
   "display_name": "Python 3",
   "language": "python",
   "name": "python3"
  },
  "language_info": {
   "codemirror_mode": {
    "name": "ipython",
    "version": 3
   },
   "file_extension": ".py",
   "mimetype": "text/x-python",
   "name": "python",
   "nbconvert_exporter": "python",
   "pygments_lexer": "ipython3",
   "version": "3.9.12"
  }
 },
 "nbformat": 4,
 "nbformat_minor": 2
}
