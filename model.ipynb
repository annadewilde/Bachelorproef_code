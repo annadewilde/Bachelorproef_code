{
 "cells": [
  {
   "cell_type": "code",
   "execution_count": 1,
   "metadata": {},
   "outputs": [],
   "source": [
    "import sys\n",
    "assert sys.version_info >= (3, 5)\n",
    "import sklearn\n",
    "assert sklearn.__version__ >= \"0.20\"\n",
    "import numpy as np\n",
    "import pandas as pd\n",
    "import os\n",
    "%matplotlib inline\n",
    "import matplotlib as mpl\n",
    "import matplotlib.pyplot as plt\n",
    "pd.set_option('display.max_columns', None)\n",
    "pd.set_option('display.max_rows', None)\n",
    "import category_encoders as ce\n",
    "from sklearn.model_selection import train_test_split\n",
    "from imblearn.under_sampling import RandomUnderSampler\n",
    "from sklearn.preprocessing import RobustScaler\n",
    "from sklearn.ensemble import RandomForestClassifier\n",
    "from sklearn.metrics import confusion_matrix\n",
    "from sklearn.metrics import classification_report\n",
    "from sklearn.model_selection import cross_val_predict\n",
    "from sklearn.metrics import precision_score, recall_score\n",
    "from sklearn.metrics import f1_score\n",
    "from sklearn.metrics import roc_auc_score\n",
    "from sklearn.metrics import roc_curve\n",
    "from sklearn.metrics import accuracy_score\n",
    "from sklearn.model_selection import cross_val_score\n",
    "from sklearn.model_selection import KFold"
   ]
  },
  {
   "cell_type": "code",
   "execution_count": 7,
   "metadata": {},
   "outputs": [],
   "source": [
    "df = pd.read_csv('../../data/afspraken_cleaned.csv', sep=';')\n",
    "df_juli = pd.read_csv('../../data/juli2024_cleaned.csv', sep=';')\n",
    "df = df.drop_duplicates()\n",
    "df_juli = df_juli.drop_duplicates()"
   ]
  },
  {
   "cell_type": "code",
   "execution_count": 8,
   "metadata": {},
   "outputs": [
    {
     "name": "stdout",
     "output_type": "stream",
     "text": [
      "<class 'pandas.core.frame.DataFrame'>\n",
      "Int64Index: 1718806 entries, 0 to 1718949\n",
      "Data columns (total 28 columns):\n",
      " #   Column                                   Dtype  \n",
      "---  ------                                   -----  \n",
      " 0   afspraak_id                              int64  \n",
      " 1   afspraak_beginuur                        int64  \n",
      " 2   afspraak_leadTime                        int64  \n",
      " 3   afspraak_duur                            int64  \n",
      " 4   afspraak_noShow                          int64  \n",
      " 5   afspraak_aantalHerplanningen             int64  \n",
      " 6   afspraak_beschrijving                    int64  \n",
      " 7   afspraak_specialisme                     int64  \n",
      " 8   afspraak_arts                            int64  \n",
      " 9   patient_aantalEerdereAfspraken           int64  \n",
      " 10  patient_dagenSindsVorigeAfspraak         float64\n",
      " 11  patient_aantalAnnulaties                 float64\n",
      " 12  patient_aantalLaattijdigAnnulaties       float64\n",
      " 13  patient_aantalAfsprakenDieDag            int64  \n",
      " 14  patient_stiptheid                        float64\n",
      " 15  patient_aantalNoShows                    float64\n",
      " 16  afspraak_weekdag                         int64  \n",
      " 17  afspraak_maand                           int64  \n",
      " 18  afspraak_isSchoolvakantie                int64  \n",
      " 19  patient_leeftijd                         float64\n",
      " 20  patient_geslacht                         int64  \n",
      " 21  patient_dubieuzeBetaler                  float64\n",
      " 22  patient_burgerlijkeStaat                 int64  \n",
      " 23  patient_nieuw                            int64  \n",
      " 24  afstand                                  float64\n",
      " 25  patient_noShow_percentage                float64\n",
      " 26  patient_laattijdigeAnnulatie_percentage  float64\n",
      " 27  afspraak_isWeekend                       int64  \n",
      "dtypes: float64(10), int64(18)\n",
      "memory usage: 380.3 MB\n"
     ]
    }
   ],
   "source": [
    "df.info()"
   ]
  },
  {
   "cell_type": "code",
   "execution_count": 17,
   "metadata": {},
   "outputs": [
    {
     "name": "stdout",
     "output_type": "stream",
     "text": [
      "<class 'pandas.core.frame.DataFrame'>\n",
      "Int64Index: 49587 entries, 0 to 49586\n",
      "Data columns (total 28 columns):\n",
      " #   Column                                   Non-Null Count  Dtype  \n",
      "---  ------                                   --------------  -----  \n",
      " 0   afspraak_id                              49587 non-null  int64  \n",
      " 1   afspraak_beginuur                        49587 non-null  float64\n",
      " 2   afspraak_leadTime                        49587 non-null  float64\n",
      " 3   afspraak_duur                            49587 non-null  float64\n",
      " 4   afspraak_noShow                          49587 non-null  float64\n",
      " 5   afspraak_aantalHerplanningen             49587 non-null  float64\n",
      " 6   afspraak_beschrijving                    49587 non-null  float64\n",
      " 7   afspraak_specialisme                     49587 non-null  float64\n",
      " 8   afspraak_arts                            49587 non-null  float64\n",
      " 9   patient_aantalEerdereAfspraken           49587 non-null  float64\n",
      " 10  patient_dagenSindsVorigeAfspraak         49587 non-null  float64\n",
      " 11  patient_aantalAnnulaties                 49587 non-null  float64\n",
      " 12  patient_aantalLaattijdigAnnulaties       49587 non-null  float64\n",
      " 13  patient_aantalAfsprakenDieDag            49587 non-null  float64\n",
      " 14  patient_stiptheid                        49587 non-null  float64\n",
      " 15  patient_aantalNoShows                    49587 non-null  float64\n",
      " 16  afspraak_weekdag                         49587 non-null  float64\n",
      " 17  afspraak_maand                           49587 non-null  float64\n",
      " 18  afspraak_isSchoolvakantie                49587 non-null  float64\n",
      " 19  patient_leeftijd                         49587 non-null  float64\n",
      " 20  patient_geslacht                         49587 non-null  float64\n",
      " 21  patient_dubieuzeBetaler                  49587 non-null  float64\n",
      " 22  patient_burgerlijkeStaat                 49587 non-null  float64\n",
      " 23  patient_nieuw                            49587 non-null  float64\n",
      " 24  afstand                                  49587 non-null  float64\n",
      " 25  patient_noShow_percentage                49587 non-null  float64\n",
      " 26  patient_laattijdigeAnnulatie_percentage  49587 non-null  float64\n",
      " 27  afspraak_isWeekend                       49587 non-null  float64\n",
      "dtypes: float64(27), int64(1)\n",
      "memory usage: 11.0 MB\n"
     ]
    }
   ],
   "source": [
    "df_juli.info()"
   ]
  },
  {
   "cell_type": "code",
   "execution_count": 18,
   "metadata": {},
   "outputs": [
    {
     "data": {
      "text/plain": [
       "((1718806, 28), (49587, 28))"
      ]
     },
     "execution_count": 18,
     "metadata": {},
     "output_type": "execute_result"
    }
   ],
   "source": [
    "df.shape, df_juli.shape"
   ]
  },
  {
   "cell_type": "code",
   "execution_count": 19,
   "metadata": {},
   "outputs": [],
   "source": [
    "ids_juli = df_juli['afspraak_id'].values\n",
    "df = df[~df['afspraak_id'].isin(ids_juli)]"
   ]
  },
  {
   "cell_type": "code",
   "execution_count": 20,
   "metadata": {},
   "outputs": [],
   "source": [
    "df['afspraak_beschrijving'] = df['afspraak_beschrijving'].astype('object')\n",
    "df['afspraak_arts'] = df['afspraak_arts'].astype('object')\n",
    "df['afspraak_specialisme'] = df['afspraak_specialisme'].astype('object')\n",
    "df['afspraak_maand'] = df['afspraak_maand'].astype('object')\n",
    "df['afspraak_weekdag'] = df['afspraak_weekdag'].astype('object')\n",
    "df['patient_burgerlijkeStaat'] = df['patient_burgerlijkeStaat'].astype('object')\n",
    "df['patient_geslacht'] = df['patient_geslacht'].astype('object')\n",
    "\n",
    "df_juli['afspraak_beschrijving'] = df_juli['afspraak_beschrijving'].astype('object')\n",
    "df_juli['afspraak_arts'] = df_juli['afspraak_arts'].astype('object')\n",
    "df_juli['afspraak_specialisme'] = df_juli['afspraak_specialisme'].astype('object')\n",
    "df_juli['afspraak_maand'] = df_juli['afspraak_maand'].astype('object')\n",
    "df_juli['afspraak_weekdag'] = df_juli['afspraak_weekdag'].astype('object')\n",
    "df_juli['patient_burgerlijkeStaat'] = df_juli['patient_burgerlijkeStaat'].astype('object')\n",
    "df_juli['patient_geslacht'] = df_juli['patient_geslacht'].astype('object')"
   ]
  },
  {
   "cell_type": "code",
   "execution_count": 21,
   "metadata": {},
   "outputs": [],
   "source": [
    "df = df.drop(columns=['afspraak_isWeekend'])\n",
    "df_juli = df_juli.drop(columns=['afspraak_isWeekend'])"
   ]
  },
  {
   "cell_type": "code",
   "execution_count": 22,
   "metadata": {},
   "outputs": [],
   "source": [
    "df = df.drop(columns=['patient_aantalNoShows', 'patient_aantalLaattijdigAnnulaties'], axis=1)\n",
    "df_juli = df_juli.drop(columns=['patient_aantalNoShows', 'patient_aantalLaattijdigAnnulaties'], axis=1)"
   ]
  },
  {
   "cell_type": "code",
   "execution_count": 23,
   "metadata": {},
   "outputs": [],
   "source": [
    "X = df.drop('afspraak_noShow', axis=1)\n",
    "y = df['afspraak_noShow']\n",
    "\n",
    "X_juli = df_juli.drop('afspraak_noShow', axis=1)\n",
    "y_juli = df_juli['afspraak_noShow']\n",
    "\n",
    "X_train, X_test, y_train, y_test = train_test_split(X, y, test_size=0.3, random_state=42, stratify=y, shuffle=True)"
   ]
  },
  {
   "cell_type": "code",
   "execution_count": 25,
   "metadata": {},
   "outputs": [
    {
     "name": "stdout",
     "output_type": "stream",
     "text": [
      "0    0.859666\n",
      "1    0.140334\n",
      "Name: afspraak_noShow, dtype: float64\n",
      "0    0.859665\n",
      "1    0.140335\n",
      "Name: afspraak_noShow, dtype: float64\n",
      "0.0    0.82209\n",
      "1.0    0.17791\n",
      "Name: afspraak_noShow, dtype: float64\n"
     ]
    }
   ],
   "source": [
    "print(pd.Series(y_train).value_counts(normalize=True))\n",
    "print(pd.Series(y_test).value_counts(normalize=True))\n",
    "print(pd.Series(y_juli).value_counts(normalize=True))"
   ]
  },
  {
   "cell_type": "markdown",
   "metadata": {},
   "source": [
    "#### Encoding"
   ]
  },
  {
   "cell_type": "code",
   "execution_count": 26,
   "metadata": {},
   "outputs": [
    {
     "name": "stderr",
     "output_type": "stream",
     "text": [
      "c:\\Users\\anna2\\AppData\\Local\\Programs\\Python\\Python39\\lib\\site-packages\\category_encoders\\leave_one_out.py:120: FutureWarning: In a future version, the Index constructor will not infer numeric dtypes when passed object-dtype sequences (matching Series behavior)\n",
      "  category = pd.Categorical(series)\n",
      "c:\\Users\\anna2\\AppData\\Local\\Programs\\Python\\Python39\\lib\\site-packages\\category_encoders\\leave_one_out.py:120: FutureWarning: In a future version, the Index constructor will not infer numeric dtypes when passed object-dtype sequences (matching Series behavior)\n",
      "  category = pd.Categorical(series)\n",
      "c:\\Users\\anna2\\AppData\\Local\\Programs\\Python\\Python39\\lib\\site-packages\\category_encoders\\leave_one_out.py:120: FutureWarning: In a future version, the Index constructor will not infer numeric dtypes when passed object-dtype sequences (matching Series behavior)\n",
      "  category = pd.Categorical(series)\n",
      "c:\\Users\\anna2\\AppData\\Local\\Programs\\Python\\Python39\\lib\\site-packages\\category_encoders\\leave_one_out.py:120: FutureWarning: In a future version, the Index constructor will not infer numeric dtypes when passed object-dtype sequences (matching Series behavior)\n",
      "  category = pd.Categorical(series)\n",
      "c:\\Users\\anna2\\AppData\\Local\\Programs\\Python\\Python39\\lib\\site-packages\\category_encoders\\leave_one_out.py:120: FutureWarning: In a future version, the Index constructor will not infer numeric dtypes when passed object-dtype sequences (matching Series behavior)\n",
      "  category = pd.Categorical(series)\n",
      "c:\\Users\\anna2\\AppData\\Local\\Programs\\Python\\Python39\\lib\\site-packages\\category_encoders\\leave_one_out.py:120: FutureWarning: In a future version, the Index constructor will not infer numeric dtypes when passed object-dtype sequences (matching Series behavior)\n",
      "  category = pd.Categorical(series)\n",
      "c:\\Users\\anna2\\AppData\\Local\\Programs\\Python\\Python39\\lib\\site-packages\\category_encoders\\leave_one_out.py:120: FutureWarning: In a future version, the Index constructor will not infer numeric dtypes when passed object-dtype sequences (matching Series behavior)\n",
      "  category = pd.Categorical(series)\n"
     ]
    }
   ],
   "source": [
    "categories = X.select_dtypes(include=['object']).columns\n",
    "sets = [X_train, X_test, X_juli]\n",
    "\n",
    "for cat in categories:\n",
    "    encoder = ce.LeaveOneOutEncoder(cols=cat)\n",
    "    encoder.fit(X_train[cat], y_train)\n",
    "    X[cat] = encoder.transform(X[cat])\n",
    "    for dataset in sets:\n",
    "        dataset[cat] = encoder.transform(dataset[cat])\n"
   ]
  },
  {
   "cell_type": "markdown",
   "metadata": {},
   "source": [
    "#### Undersampling"
   ]
  },
  {
   "cell_type": "code",
   "execution_count": 27,
   "metadata": {},
   "outputs": [],
   "source": [
    "rus = RandomUnderSampler(random_state=42)\n",
    "X_train, y_train = rus.fit_resample(X_train, y_train)"
   ]
  },
  {
   "cell_type": "markdown",
   "metadata": {},
   "source": [
    "#### Scaling"
   ]
  },
  {
   "cell_type": "code",
   "execution_count": 28,
   "metadata": {},
   "outputs": [],
   "source": [
    "cols = X.columns[X.columns != 'afspraak_id']\n",
    "\n",
    "robust = RobustScaler()\n",
    "X_train[cols] = robust.fit_transform(X_train[cols])\n",
    "X_test[cols] = robust.transform(X_test[cols])\n",
    "X_juli[cols] = robust.transform(X_juli[cols])"
   ]
  },
  {
   "cell_type": "markdown",
   "metadata": {},
   "source": [
    "#### Model"
   ]
  },
  {
   "cell_type": "code",
   "execution_count": 29,
   "metadata": {},
   "outputs": [
    {
     "name": "stdout",
     "output_type": "stream",
     "text": [
      "RF - test - treshold\n",
      "[[424347   6144]\n",
      " [  6807  63468]]\n",
      "              precision    recall  f1-score   support\n",
      "\n",
      "           0       0.98      0.99      0.98    430491\n",
      "           1       0.91      0.90      0.91     70275\n",
      "\n",
      "    accuracy                           0.97    500766\n",
      "   macro avg       0.95      0.94      0.95    500766\n",
      "weighted avg       0.97      0.97      0.97    500766\n",
      "\n",
      "Precision: 0.9117393552835718\n",
      "Recall: 0.9031376734258271\n",
      "F1: 0.9074181303480666\n",
      "ROC AUC: 0.9940829069665862\n",
      "Accuracy: 0.9741376211643762\n",
      "PR AUC: 0.9725794477970294\n",
      "Jaccard: 0.8305264397597456\n",
      "Log loss: 0.10523818868536829\n",
      "RF - juli - treshold\n",
      "[[40092   673]\n",
      " [  688  8134]]\n",
      "              precision    recall  f1-score   support\n",
      "\n",
      "         0.0       0.98      0.98      0.98     40765\n",
      "         1.0       0.92      0.92      0.92      8822\n",
      "\n",
      "    accuracy                           0.97     49587\n",
      "   macro avg       0.95      0.95      0.95     49587\n",
      "weighted avg       0.97      0.97      0.97     49587\n",
      "\n",
      "Precision: 0.923583513114568\n",
      "Recall: 0.9220131489458173\n",
      "F1: 0.9227976629417437\n",
      "ROC AUC: 0.9943273165836009\n",
      "Accuracy: 0.9725532901768609\n",
      "PR AUC: 0.9788162765033571\n",
      "Jaccard: 0.8566614007372301\n",
      "Log loss: 0.11730986892239313\n"
     ]
    }
   ],
   "source": [
    "treshold = 0.75\n",
    "rf = RandomForestClassifier(n_estimators=100, random_state=42)\n",
    "rf.fit(X_train, y_train)\n",
    "\n",
    "y_pred = (rf.predict_proba(X_test)[:, 1] >= treshold).astype(int)\n",
    "y_pred_proba = rf.predict_proba(X_test)[:, 1]\n",
    "print('RF - test - treshold')\n",
    "print(confusion_matrix(y_test, y_pred))\n",
    "print(classification_report(y_test, y_pred))\n",
    "print('Precision:', precision_score(y_test, y_pred))\n",
    "print('Recall:', recall_score(y_test, y_pred))\n",
    "print('F1:', f1_score(y_test, y_pred))\n",
    "print('ROC AUC:', roc_auc_score(y_test, y_pred_proba))\n",
    "print('Accuracy:', accuracy_score(y_test, y_pred))\n",
    "print('PR AUC:', sklearn.metrics.average_precision_score(y_test, y_pred_proba))\n",
    "print('Jaccard:', sklearn.metrics.jaccard_score(y_test, y_pred))\n",
    "print('Log loss:', sklearn.metrics.log_loss(y_test, y_pred_proba))\n",
    "\n",
    "y_juli_pred = (rf.predict_proba(X_juli)[:, 1] >= treshold).astype(int)\n",
    "y_juli_pred_proba = rf.predict_proba(X_juli)[:, 1]\n",
    "print('RF - juli - treshold')\n",
    "print(confusion_matrix(y_juli, y_juli_pred))\n",
    "print(classification_report(y_juli, y_juli_pred))\n",
    "print('Precision:', precision_score(y_juli, y_juli_pred))\n",
    "print('Recall:', recall_score(y_juli, y_juli_pred))\n",
    "print('F1:', f1_score(y_juli, y_juli_pred))\n",
    "print('ROC AUC:', roc_auc_score(y_juli, y_juli_pred_proba))\n",
    "print('Accuracy:', accuracy_score(y_juli, y_juli_pred))\n",
    "print('PR AUC:', sklearn.metrics.average_precision_score(y_juli, y_juli_pred_proba))\n",
    "print('Jaccard:', sklearn.metrics.jaccard_score(y_juli, y_juli_pred))\n",
    "print('Log loss:', sklearn.metrics.log_loss(y_juli, y_juli_pred_proba))\n"
   ]
  },
  {
   "cell_type": "code",
   "execution_count": null,
   "metadata": {},
   "outputs": [
    {
     "data": {
      "image/png": "[encoded data removed]",
      "text/plain": [
       "<Figure size 640x480 with 1 Axes>"
      ]
     },
     "metadata": {},
     "output_type": "display_data"
    }
   ],
   "source": [
    "precisions, recalls, thresholds = precision_recall_curve(y_test, y_pred_proba)\n",
    "\n",
    "def plot_precision_recall_vs_threshold(precisions, recalls, thresholds):\n",
    "    plt.plot(thresholds, precisions[:-1], 'b--', label='Precision')\n",
    "    plt.plot(thresholds, recalls[:-1], 'g-', label='Recall')\n",
    "    plt.xlabel('Threshold')\n",
    "    plt.legend(loc='center right')\n",
    "    plt.ylim([0, 1])\n",
    "\n",
    "plot_precision_recall_vs_threshold(precisions, recalls, thresholds)"
   ]
  },
  {
   "cell_type": "code",
   "execution_count": null,
   "metadata": {},
   "outputs": [
    {
     "data": {
      "image/png": "[encoded data removed]",
      "text/plain": [
       "<Figure size 800x550 with 1 Axes>"
      ]
     },
     "metadata": {},
     "output_type": "display_data"
    }
   ],
   "source": [
    "from sklearn.metrics import roc_curve, auc\n",
    "\n",
    "fpr, tpr, thresholds = roc_curve(y_test, rf.predict_proba(X_test)[:,1])\n",
    "roc_auc = auc(fpr, tpr)\n",
    "plt.plot(fpr, tpr, linewidth=2)\n",
    "plt.plot([0, 1], [0, 1], 'k--')\n",
    "plt.axis([0, 1, 0, 1])\n",
    "plt.xlabel('False Positive Rate')\n",
    "plt.ylabel('True Positive Rate')\n",
    "plt.title('ROC Curve')\n",
    "plt.show()"
   ]
  },
  {
   "cell_type": "code",
   "execution_count": 59,
   "metadata": {},
   "outputs": [
    {
     "data": {
      "text/html": [
       "<div>\n",
       "<style scoped>\n",
       "    .dataframe tbody tr th:only-of-type {\n",
       "        vertical-align: middle;\n",
       "    }\n",
       "\n",
       "    .dataframe tbody tr th {\n",
       "        vertical-align: top;\n",
       "    }\n",
       "\n",
       "    .dataframe thead th {\n",
       "        text-align: right;\n",
       "    }\n",
       "</style>\n",
       "<table border=\"1\" class=\"dataframe\">\n",
       "  <thead>\n",
       "    <tr style=\"text-align: right;\">\n",
       "      <th></th>\n",
       "      <th>importance</th>\n",
       "    </tr>\n",
       "  </thead>\n",
       "  <tbody>\n",
       "    <tr>\n",
       "      <th>afspraak_specialisme</th>\n",
       "      <td>0.265020</td>\n",
       "    </tr>\n",
       "    <tr>\n",
       "      <th>afspraak_beschrijving</th>\n",
       "      <td>0.254113</td>\n",
       "    </tr>\n",
       "    <tr>\n",
       "      <th>afspraak_arts</th>\n",
       "      <td>0.212348</td>\n",
       "    </tr>\n",
       "    <tr>\n",
       "      <th>afstand</th>\n",
       "      <td>0.062434</td>\n",
       "    </tr>\n",
       "    <tr>\n",
       "      <th>afspraak_id</th>\n",
       "      <td>0.037019</td>\n",
       "    </tr>\n",
       "    <tr>\n",
       "      <th>afspraak_leadTime</th>\n",
       "      <td>0.022095</td>\n",
       "    </tr>\n",
       "    <tr>\n",
       "      <th>afspraak_duur</th>\n",
       "      <td>0.019208</td>\n",
       "    </tr>\n",
       "    <tr>\n",
       "      <th>patient_leeftijd</th>\n",
       "      <td>0.015731</td>\n",
       "    </tr>\n",
       "    <tr>\n",
       "      <th>patient_dagenSindsVorigeAfspraak</th>\n",
       "      <td>0.014960</td>\n",
       "    </tr>\n",
       "    <tr>\n",
       "      <th>patient_aantalAfsprakenDieDag</th>\n",
       "      <td>0.013878</td>\n",
       "    </tr>\n",
       "    <tr>\n",
       "      <th>patient_noShow_percentage</th>\n",
       "      <td>0.012675</td>\n",
       "    </tr>\n",
       "    <tr>\n",
       "      <th>patient_stiptheid</th>\n",
       "      <td>0.010295</td>\n",
       "    </tr>\n",
       "    <tr>\n",
       "      <th>patient_aantalEerdereAfspraken</th>\n",
       "      <td>0.010275</td>\n",
       "    </tr>\n",
       "    <tr>\n",
       "      <th>afspraak_beginuur</th>\n",
       "      <td>0.010001</td>\n",
       "    </tr>\n",
       "    <tr>\n",
       "      <th>afspraak_maand</th>\n",
       "      <td>0.007588</td>\n",
       "    </tr>\n",
       "    <tr>\n",
       "      <th>afspraak_weekdag</th>\n",
       "      <td>0.007564</td>\n",
       "    </tr>\n",
       "    <tr>\n",
       "      <th>patient_laattijdigeAnnulatie_percentage</th>\n",
       "      <td>0.006673</td>\n",
       "    </tr>\n",
       "    <tr>\n",
       "      <th>patient_burgerlijkeStaat</th>\n",
       "      <td>0.005579</td>\n",
       "    </tr>\n",
       "    <tr>\n",
       "      <th>patient_aantalAnnulaties</th>\n",
       "      <td>0.004772</td>\n",
       "    </tr>\n",
       "    <tr>\n",
       "      <th>afspraak_aantalHerplanningen</th>\n",
       "      <td>0.002993</td>\n",
       "    </tr>\n",
       "    <tr>\n",
       "      <th>patient_geslacht</th>\n",
       "      <td>0.002326</td>\n",
       "    </tr>\n",
       "    <tr>\n",
       "      <th>afspraak_isSchoolvakantie</th>\n",
       "      <td>0.001670</td>\n",
       "    </tr>\n",
       "    <tr>\n",
       "      <th>patient_nieuw</th>\n",
       "      <td>0.000497</td>\n",
       "    </tr>\n",
       "    <tr>\n",
       "      <th>patient_dubieuzeBetaler</th>\n",
       "      <td>0.000285</td>\n",
       "    </tr>\n",
       "  </tbody>\n",
       "</table>\n",
       "</div>"
      ],
      "text/plain": [
       "                                         importance\n",
       "afspraak_specialisme                       0.265020\n",
       "afspraak_beschrijving                      0.254113\n",
       "afspraak_arts                              0.212348\n",
       "afstand                                    0.062434\n",
       "afspraak_id                                0.037019\n",
       "afspraak_leadTime                          0.022095\n",
       "afspraak_duur                              0.019208\n",
       "patient_leeftijd                           0.015731\n",
       "patient_dagenSindsVorigeAfspraak           0.014960\n",
       "patient_aantalAfsprakenDieDag              0.013878\n",
       "patient_noShow_percentage                  0.012675\n",
       "patient_stiptheid                          0.010295\n",
       "patient_aantalEerdereAfspraken             0.010275\n",
       "afspraak_beginuur                          0.010001\n",
       "afspraak_maand                             0.007588\n",
       "afspraak_weekdag                           0.007564\n",
       "patient_laattijdigeAnnulatie_percentage    0.006673\n",
       "patient_burgerlijkeStaat                   0.005579\n",
       "patient_aantalAnnulaties                   0.004772\n",
       "afspraak_aantalHerplanningen               0.002993\n",
       "patient_geslacht                           0.002326\n",
       "afspraak_isSchoolvakantie                  0.001670\n",
       "patient_nieuw                              0.000497\n",
       "patient_dubieuzeBetaler                    0.000285"
      ]
     },
     "execution_count": 59,
     "metadata": {},
     "output_type": "execute_result"
    }
   ],
   "source": [
    "feature_importances = pd.DataFrame(rf.feature_importances_,\n",
    "                                   index = X_train.columns,\n",
    "                                    columns=['importance']).sort_values('importance', ascending=False)\n",
    "\n",
    "feature_importances"
   ]
  },
  {
   "cell_type": "markdown",
   "metadata": {},
   "source": [
    "##### Vergelijking modellen"
   ]
  },
  {
   "cell_type": "code",
   "execution_count": null,
   "metadata": {},
   "outputs": [],
   "source": [
    "from pycaret.classification import ClassificationExperiment\n",
    "\n",
    "s = ClassificationExperiment()\n",
    "\n",
    "s.setup(data=df, target='afspraak_noShow')"
   ]
  },
  {
   "cell_type": "code",
   "execution_count": 130,
   "metadata": {},
   "outputs": [
    {
     "data": {
      "text/html": [],
      "text/plain": [
       "<IPython.core.display.HTML object>"
      ]
     },
     "metadata": {},
     "output_type": "display_data"
    },
    {
     "data": {
      "text/html": [
       "<style type=\"text/css\">\n",
       "#T_984ac th {\n",
       "  text-align: left;\n",
       "}\n",
       "#T_984ac_row0_col0, #T_984ac_row0_col4, #T_984ac_row1_col0, #T_984ac_row1_col1, #T_984ac_row1_col2, #T_984ac_row1_col3, #T_984ac_row1_col4, #T_984ac_row1_col5, #T_984ac_row1_col6, #T_984ac_row1_col7, #T_984ac_row2_col0, #T_984ac_row2_col1, #T_984ac_row2_col2, #T_984ac_row2_col3, #T_984ac_row2_col4, #T_984ac_row2_col5, #T_984ac_row2_col6, #T_984ac_row2_col7, #T_984ac_row3_col0, #T_984ac_row3_col1, #T_984ac_row3_col2, #T_984ac_row3_col3, #T_984ac_row3_col4, #T_984ac_row3_col5, #T_984ac_row3_col6, #T_984ac_row3_col7, #T_984ac_row4_col0, #T_984ac_row4_col1, #T_984ac_row4_col2, #T_984ac_row4_col3, #T_984ac_row4_col4, #T_984ac_row4_col5, #T_984ac_row4_col6, #T_984ac_row4_col7, #T_984ac_row5_col0, #T_984ac_row5_col1, #T_984ac_row5_col2, #T_984ac_row5_col3, #T_984ac_row5_col4, #T_984ac_row5_col5, #T_984ac_row5_col6, #T_984ac_row5_col7, #T_984ac_row6_col0, #T_984ac_row6_col1, #T_984ac_row6_col2, #T_984ac_row6_col3, #T_984ac_row6_col4, #T_984ac_row6_col5, #T_984ac_row6_col6, #T_984ac_row6_col7, #T_984ac_row7_col0, #T_984ac_row7_col1, #T_984ac_row7_col2, #T_984ac_row7_col3, #T_984ac_row7_col4, #T_984ac_row7_col5, #T_984ac_row7_col6, #T_984ac_row7_col7, #T_984ac_row8_col0, #T_984ac_row8_col1, #T_984ac_row8_col2, #T_984ac_row8_col3, #T_984ac_row8_col4, #T_984ac_row8_col5, #T_984ac_row8_col6, #T_984ac_row8_col7, #T_984ac_row9_col0, #T_984ac_row9_col1, #T_984ac_row9_col2, #T_984ac_row9_col3, #T_984ac_row9_col4, #T_984ac_row9_col5, #T_984ac_row9_col6, #T_984ac_row9_col7, #T_984ac_row10_col0, #T_984ac_row10_col1, #T_984ac_row10_col2, #T_984ac_row10_col3, #T_984ac_row10_col4, #T_984ac_row10_col5, #T_984ac_row10_col6, #T_984ac_row10_col7, #T_984ac_row11_col0, #T_984ac_row11_col1, #T_984ac_row11_col2, #T_984ac_row11_col3, #T_984ac_row11_col4, #T_984ac_row11_col5, #T_984ac_row11_col6, #T_984ac_row11_col7, #T_984ac_row12_col0, #T_984ac_row12_col1, #T_984ac_row12_col2, #T_984ac_row12_col3, #T_984ac_row12_col5, #T_984ac_row12_col6, #T_984ac_row12_col7, #T_984ac_row13_col0, #T_984ac_row13_col1, #T_984ac_row13_col2, #T_984ac_row13_col3, #T_984ac_row13_col4, #T_984ac_row13_col5, #T_984ac_row13_col6, #T_984ac_row13_col7, #T_984ac_row14_col0, #T_984ac_row14_col1, #T_984ac_row14_col2, #T_984ac_row14_col3, #T_984ac_row14_col4, #T_984ac_row14_col5, #T_984ac_row14_col6, #T_984ac_row14_col7, #T_984ac_row15_col0, #T_984ac_row15_col1, #T_984ac_row15_col2, #T_984ac_row15_col3, #T_984ac_row15_col4, #T_984ac_row15_col5, #T_984ac_row15_col6, #T_984ac_row15_col7 {\n",
       "  text-align: left;\n",
       "}\n",
       "#T_984ac_row0_col1, #T_984ac_row0_col2, #T_984ac_row0_col3, #T_984ac_row0_col5, #T_984ac_row0_col6, #T_984ac_row0_col7, #T_984ac_row12_col4 {\n",
       "  text-align: left;\n",
       "  background-color: yellow;\n",
       "}\n",
       "#T_984ac_row0_col8, #T_984ac_row1_col8, #T_984ac_row2_col8, #T_984ac_row3_col8, #T_984ac_row4_col8, #T_984ac_row5_col8, #T_984ac_row6_col8, #T_984ac_row7_col8, #T_984ac_row8_col8, #T_984ac_row9_col8, #T_984ac_row10_col8, #T_984ac_row11_col8, #T_984ac_row12_col8, #T_984ac_row13_col8, #T_984ac_row14_col8 {\n",
       "  text-align: left;\n",
       "  background-color: lightgrey;\n",
       "}\n",
       "#T_984ac_row15_col8 {\n",
       "  text-align: left;\n",
       "  background-color: yellow;\n",
       "  background-color: lightgrey;\n",
       "}\n",
       "</style>\n",
       "<table id=\"T_984ac\">\n",
       "  <thead>\n",
       "    <tr>\n",
       "      <th class=\"blank level0\" >&nbsp;</th>\n",
       "      <th id=\"T_984ac_level0_col0\" class=\"col_heading level0 col0\" >Model</th>\n",
       "      <th id=\"T_984ac_level0_col1\" class=\"col_heading level0 col1\" >Accuracy</th>\n",
       "      <th id=\"T_984ac_level0_col2\" class=\"col_heading level0 col2\" >AUC</th>\n",
       "      <th id=\"T_984ac_level0_col3\" class=\"col_heading level0 col3\" >Recall</th>\n",
       "      <th id=\"T_984ac_level0_col4\" class=\"col_heading level0 col4\" >Prec.</th>\n",
       "      <th id=\"T_984ac_level0_col5\" class=\"col_heading level0 col5\" >F1</th>\n",
       "      <th id=\"T_984ac_level0_col6\" class=\"col_heading level0 col6\" >Kappa</th>\n",
       "      <th id=\"T_984ac_level0_col7\" class=\"col_heading level0 col7\" >MCC</th>\n",
       "      <th id=\"T_984ac_level0_col8\" class=\"col_heading level0 col8\" >TT (Sec)</th>\n",
       "    </tr>\n",
       "  </thead>\n",
       "  <tbody>\n",
       "    <tr>\n",
       "      <th id=\"T_984ac_level0_row0\" class=\"row_heading level0 row0\" >catboost</th>\n",
       "      <td id=\"T_984ac_row0_col0\" class=\"data row0 col0\" >CatBoost Classifier</td>\n",
       "      <td id=\"T_984ac_row0_col1\" class=\"data row0 col1\" >0.9721</td>\n",
       "      <td id=\"T_984ac_row0_col2\" class=\"data row0 col2\" >0.9958</td>\n",
       "      <td id=\"T_984ac_row0_col3\" class=\"data row0 col3\" >0.9641</td>\n",
       "      <td id=\"T_984ac_row0_col4\" class=\"data row0 col4\" >0.9527</td>\n",
       "      <td id=\"T_984ac_row0_col5\" class=\"data row0 col5\" >0.9584</td>\n",
       "      <td id=\"T_984ac_row0_col6\" class=\"data row0 col6\" >0.9374</td>\n",
       "      <td id=\"T_984ac_row0_col7\" class=\"data row0 col7\" >0.9375</td>\n",
       "      <td id=\"T_984ac_row0_col8\" class=\"data row0 col8\" >14.4310</td>\n",
       "    </tr>\n",
       "    <tr>\n",
       "      <th id=\"T_984ac_level0_row1\" class=\"row_heading level0 row1\" >xgboost</th>\n",
       "      <td id=\"T_984ac_row1_col0\" class=\"data row1 col0\" >Extreme Gradient Boosting</td>\n",
       "      <td id=\"T_984ac_row1_col1\" class=\"data row1 col1\" >0.9714</td>\n",
       "      <td id=\"T_984ac_row1_col2\" class=\"data row1 col2\" >0.9956</td>\n",
       "      <td id=\"T_984ac_row1_col3\" class=\"data row1 col3\" >0.9623</td>\n",
       "      <td id=\"T_984ac_row1_col4\" class=\"data row1 col4\" >0.9524</td>\n",
       "      <td id=\"T_984ac_row1_col5\" class=\"data row1 col5\" >0.9573</td>\n",
       "      <td id=\"T_984ac_row1_col6\" class=\"data row1 col6\" >0.9358</td>\n",
       "      <td id=\"T_984ac_row1_col7\" class=\"data row1 col7\" >0.9359</td>\n",
       "      <td id=\"T_984ac_row1_col8\" class=\"data row1 col8\" >4.7040</td>\n",
       "    </tr>\n",
       "    <tr>\n",
       "      <th id=\"T_984ac_level0_row2\" class=\"row_heading level0 row2\" >lightgbm</th>\n",
       "      <td id=\"T_984ac_row2_col0\" class=\"data row2 col0\" >Light Gradient Boosting Machine</td>\n",
       "      <td id=\"T_984ac_row2_col1\" class=\"data row2 col1\" >0.9694</td>\n",
       "      <td id=\"T_984ac_row2_col2\" class=\"data row2 col2\" >0.9953</td>\n",
       "      <td id=\"T_984ac_row2_col3\" class=\"data row2 col3\" >0.9631</td>\n",
       "      <td id=\"T_984ac_row2_col4\" class=\"data row2 col4\" >0.9459</td>\n",
       "      <td id=\"T_984ac_row2_col5\" class=\"data row2 col5\" >0.9544</td>\n",
       "      <td id=\"T_984ac_row2_col6\" class=\"data row2 col6\" >0.9314</td>\n",
       "      <td id=\"T_984ac_row2_col7\" class=\"data row2 col7\" >0.9315</td>\n",
       "      <td id=\"T_984ac_row2_col8\" class=\"data row2 col8\" >0.7160</td>\n",
       "    </tr>\n",
       "    <tr>\n",
       "      <th id=\"T_984ac_level0_row3\" class=\"row_heading level0 row3\" >rf</th>\n",
       "      <td id=\"T_984ac_row3_col0\" class=\"data row3 col0\" >Random Forest Classifier</td>\n",
       "      <td id=\"T_984ac_row3_col1\" class=\"data row3 col1\" >0.9685</td>\n",
       "      <td id=\"T_984ac_row3_col2\" class=\"data row3 col2\" >0.9944</td>\n",
       "      <td id=\"T_984ac_row3_col3\" class=\"data row3 col3\" >0.9598</td>\n",
       "      <td id=\"T_984ac_row3_col4\" class=\"data row3 col4\" >0.9464</td>\n",
       "      <td id=\"T_984ac_row3_col5\" class=\"data row3 col5\" >0.9530</td>\n",
       "      <td id=\"T_984ac_row3_col6\" class=\"data row3 col6\" >0.9294</td>\n",
       "      <td id=\"T_984ac_row3_col7\" class=\"data row3 col7\" >0.9294</td>\n",
       "      <td id=\"T_984ac_row3_col8\" class=\"data row3 col8\" >4.0200</td>\n",
       "    </tr>\n",
       "    <tr>\n",
       "      <th id=\"T_984ac_level0_row4\" class=\"row_heading level0 row4\" >et</th>\n",
       "      <td id=\"T_984ac_row4_col0\" class=\"data row4 col0\" >Extra Trees Classifier</td>\n",
       "      <td id=\"T_984ac_row4_col1\" class=\"data row4 col1\" >0.9651</td>\n",
       "      <td id=\"T_984ac_row4_col2\" class=\"data row4 col2\" >0.9934</td>\n",
       "      <td id=\"T_984ac_row4_col3\" class=\"data row4 col3\" >0.9559</td>\n",
       "      <td id=\"T_984ac_row4_col4\" class=\"data row4 col4\" >0.9402</td>\n",
       "      <td id=\"T_984ac_row4_col5\" class=\"data row4 col5\" >0.9480</td>\n",
       "      <td id=\"T_984ac_row4_col6\" class=\"data row4 col6\" >0.9217</td>\n",
       "      <td id=\"T_984ac_row4_col7\" class=\"data row4 col7\" >0.9218</td>\n",
       "      <td id=\"T_984ac_row4_col8\" class=\"data row4 col8\" >4.1990</td>\n",
       "    </tr>\n",
       "    <tr>\n",
       "      <th id=\"T_984ac_level0_row5\" class=\"row_heading level0 row5\" >gbc</th>\n",
       "      <td id=\"T_984ac_row5_col0\" class=\"data row5 col0\" >Gradient Boosting Classifier</td>\n",
       "      <td id=\"T_984ac_row5_col1\" class=\"data row5 col1\" >0.9621</td>\n",
       "      <td id=\"T_984ac_row5_col2\" class=\"data row5 col2\" >0.9924</td>\n",
       "      <td id=\"T_984ac_row5_col3\" class=\"data row5 col3\" >0.9601</td>\n",
       "      <td id=\"T_984ac_row5_col4\" class=\"data row5 col4\" >0.9285</td>\n",
       "      <td id=\"T_984ac_row5_col5\" class=\"data row5 col5\" >0.9440</td>\n",
       "      <td id=\"T_984ac_row5_col6\" class=\"data row5 col6\" >0.9153</td>\n",
       "      <td id=\"T_984ac_row5_col7\" class=\"data row5 col7\" >0.9156</td>\n",
       "      <td id=\"T_984ac_row5_col8\" class=\"data row5 col8\" >8.1200</td>\n",
       "    </tr>\n",
       "    <tr>\n",
       "      <th id=\"T_984ac_level0_row6\" class=\"row_heading level0 row6\" >dt</th>\n",
       "      <td id=\"T_984ac_row6_col0\" class=\"data row6 col0\" >Decision Tree Classifier</td>\n",
       "      <td id=\"T_984ac_row6_col1\" class=\"data row6 col1\" >0.9534</td>\n",
       "      <td id=\"T_984ac_row6_col2\" class=\"data row6 col2\" >0.9474</td>\n",
       "      <td id=\"T_984ac_row6_col3\" class=\"data row6 col3\" >0.9293</td>\n",
       "      <td id=\"T_984ac_row6_col4\" class=\"data row6 col4\" >0.9306</td>\n",
       "      <td id=\"T_984ac_row6_col5\" class=\"data row6 col5\" >0.9300</td>\n",
       "      <td id=\"T_984ac_row6_col6\" class=\"data row6 col6\" >0.8951</td>\n",
       "      <td id=\"T_984ac_row6_col7\" class=\"data row6 col7\" >0.8951</td>\n",
       "      <td id=\"T_984ac_row6_col8\" class=\"data row6 col8\" >0.3090</td>\n",
       "    </tr>\n",
       "    <tr>\n",
       "      <th id=\"T_984ac_level0_row7\" class=\"row_heading level0 row7\" >ada</th>\n",
       "      <td id=\"T_984ac_row7_col0\" class=\"data row7 col0\" >Ada Boost Classifier</td>\n",
       "      <td id=\"T_984ac_row7_col1\" class=\"data row7 col1\" >0.9508</td>\n",
       "      <td id=\"T_984ac_row7_col2\" class=\"data row7 col2\" >0.9890</td>\n",
       "      <td id=\"T_984ac_row7_col3\" class=\"data row7 col3\" >0.9307</td>\n",
       "      <td id=\"T_984ac_row7_col4\" class=\"data row7 col4\" >0.9222</td>\n",
       "      <td id=\"T_984ac_row7_col5\" class=\"data row7 col5\" >0.9264</td>\n",
       "      <td id=\"T_984ac_row7_col6\" class=\"data row7 col6\" >0.8894</td>\n",
       "      <td id=\"T_984ac_row7_col7\" class=\"data row7 col7\" >0.8895</td>\n",
       "      <td id=\"T_984ac_row7_col8\" class=\"data row7 col8\" >1.6410</td>\n",
       "    </tr>\n",
       "    <tr>\n",
       "      <th id=\"T_984ac_level0_row8\" class=\"row_heading level0 row8\" >lr</th>\n",
       "      <td id=\"T_984ac_row8_col0\" class=\"data row8 col0\" >Logistic Regression</td>\n",
       "      <td id=\"T_984ac_row8_col1\" class=\"data row8 col1\" >0.9446</td>\n",
       "      <td id=\"T_984ac_row8_col2\" class=\"data row8 col2\" >0.9798</td>\n",
       "      <td id=\"T_984ac_row8_col3\" class=\"data row8 col3\" >0.9320</td>\n",
       "      <td id=\"T_984ac_row8_col4\" class=\"data row8 col4\" >0.9043</td>\n",
       "      <td id=\"T_984ac_row8_col5\" class=\"data row8 col5\" >0.9180</td>\n",
       "      <td id=\"T_984ac_row8_col6\" class=\"data row8 col6\" >0.8761</td>\n",
       "      <td id=\"T_984ac_row8_col7\" class=\"data row8 col7\" >0.8763</td>\n",
       "      <td id=\"T_984ac_row8_col8\" class=\"data row8 col8\" >1.9870</td>\n",
       "    </tr>\n",
       "    <tr>\n",
       "      <th id=\"T_984ac_level0_row9\" class=\"row_heading level0 row9\" >svm</th>\n",
       "      <td id=\"T_984ac_row9_col0\" class=\"data row9 col0\" >SVM - Linear Kernel</td>\n",
       "      <td id=\"T_984ac_row9_col1\" class=\"data row9 col1\" >0.9325</td>\n",
       "      <td id=\"T_984ac_row9_col2\" class=\"data row9 col2\" >0.9739</td>\n",
       "      <td id=\"T_984ac_row9_col3\" class=\"data row9 col3\" >0.8856</td>\n",
       "      <td id=\"T_984ac_row9_col4\" class=\"data row9 col4\" >0.9093</td>\n",
       "      <td id=\"T_984ac_row9_col5\" class=\"data row9 col5\" >0.8972</td>\n",
       "      <td id=\"T_984ac_row9_col6\" class=\"data row9 col6\" >0.8470</td>\n",
       "      <td id=\"T_984ac_row9_col7\" class=\"data row9 col7\" >0.8472</td>\n",
       "      <td id=\"T_984ac_row9_col8\" class=\"data row9 col8\" >0.1450</td>\n",
       "    </tr>\n",
       "    <tr>\n",
       "      <th id=\"T_984ac_level0_row10\" class=\"row_heading level0 row10\" >knn</th>\n",
       "      <td id=\"T_984ac_row10_col0\" class=\"data row10 col0\" >K Neighbors Classifier</td>\n",
       "      <td id=\"T_984ac_row10_col1\" class=\"data row10 col1\" >0.9077</td>\n",
       "      <td id=\"T_984ac_row10_col2\" class=\"data row10 col2\" >0.9507</td>\n",
       "      <td id=\"T_984ac_row10_col3\" class=\"data row10 col3\" >0.7870</td>\n",
       "      <td id=\"T_984ac_row10_col4\" class=\"data row10 col4\" >0.9244</td>\n",
       "      <td id=\"T_984ac_row10_col5\" class=\"data row10 col5\" >0.8502</td>\n",
       "      <td id=\"T_984ac_row10_col6\" class=\"data row10 col6\" >0.7841</td>\n",
       "      <td id=\"T_984ac_row10_col7\" class=\"data row10 col7\" >0.7894</td>\n",
       "      <td id=\"T_984ac_row10_col8\" class=\"data row10 col8\" >4.5290</td>\n",
       "    </tr>\n",
       "    <tr>\n",
       "      <th id=\"T_984ac_level0_row11\" class=\"row_heading level0 row11\" >lda</th>\n",
       "      <td id=\"T_984ac_row11_col0\" class=\"data row11 col0\" >Linear Discriminant Analysis</td>\n",
       "      <td id=\"T_984ac_row11_col1\" class=\"data row11 col1\" >0.8995</td>\n",
       "      <td id=\"T_984ac_row11_col2\" class=\"data row11 col2\" >0.9755</td>\n",
       "      <td id=\"T_984ac_row11_col3\" class=\"data row11 col3\" >0.7112</td>\n",
       "      <td id=\"T_984ac_row11_col4\" class=\"data row11 col4\" >0.9817</td>\n",
       "      <td id=\"T_984ac_row11_col5\" class=\"data row11 col5\" >0.8248</td>\n",
       "      <td id=\"T_984ac_row11_col6\" class=\"data row11 col6\" >0.7568</td>\n",
       "      <td id=\"T_984ac_row11_col7\" class=\"data row11 col7\" >0.7762</td>\n",
       "      <td id=\"T_984ac_row11_col8\" class=\"data row11 col8\" >0.1760</td>\n",
       "    </tr>\n",
       "    <tr>\n",
       "      <th id=\"T_984ac_level0_row12\" class=\"row_heading level0 row12\" >ridge</th>\n",
       "      <td id=\"T_984ac_row12_col0\" class=\"data row12 col0\" >Ridge Classifier</td>\n",
       "      <td id=\"T_984ac_row12_col1\" class=\"data row12 col1\" >0.8991</td>\n",
       "      <td id=\"T_984ac_row12_col2\" class=\"data row12 col2\" >0.9755</td>\n",
       "      <td id=\"T_984ac_row12_col3\" class=\"data row12 col3\" >0.7096</td>\n",
       "      <td id=\"T_984ac_row12_col4\" class=\"data row12 col4\" >0.9822</td>\n",
       "      <td id=\"T_984ac_row12_col5\" class=\"data row12 col5\" >0.8239</td>\n",
       "      <td id=\"T_984ac_row12_col6\" class=\"data row12 col6\" >0.7557</td>\n",
       "      <td id=\"T_984ac_row12_col7\" class=\"data row12 col7\" >0.7753</td>\n",
       "      <td id=\"T_984ac_row12_col8\" class=\"data row12 col8\" >0.0600</td>\n",
       "    </tr>\n",
       "    <tr>\n",
       "      <th id=\"T_984ac_level0_row13\" class=\"row_heading level0 row13\" >qda</th>\n",
       "      <td id=\"T_984ac_row13_col0\" class=\"data row13 col0\" >Quadratic Discriminant Analysis</td>\n",
       "      <td id=\"T_984ac_row13_col1\" class=\"data row13 col1\" >0.8968</td>\n",
       "      <td id=\"T_984ac_row13_col2\" class=\"data row13 col2\" >0.9523</td>\n",
       "      <td id=\"T_984ac_row13_col3\" class=\"data row13 col3\" >0.8262</td>\n",
       "      <td id=\"T_984ac_row13_col4\" class=\"data row13 col4\" >0.8583</td>\n",
       "      <td id=\"T_984ac_row13_col5\" class=\"data row13 col5\" >0.8420</td>\n",
       "      <td id=\"T_984ac_row13_col6\" class=\"data row13 col6\" >0.7654</td>\n",
       "      <td id=\"T_984ac_row13_col7\" class=\"data row13 col7\" >0.7657</td>\n",
       "      <td id=\"T_984ac_row13_col8\" class=\"data row13 col8\" >0.1990</td>\n",
       "    </tr>\n",
       "    <tr>\n",
       "      <th id=\"T_984ac_level0_row14\" class=\"row_heading level0 row14\" >nb</th>\n",
       "      <td id=\"T_984ac_row14_col0\" class=\"data row14 col0\" >Naive Bayes</td>\n",
       "      <td id=\"T_984ac_row14_col1\" class=\"data row14 col1\" >0.8791</td>\n",
       "      <td id=\"T_984ac_row14_col2\" class=\"data row14 col2\" >0.9472</td>\n",
       "      <td id=\"T_984ac_row14_col3\" class=\"data row14 col3\" >0.7417</td>\n",
       "      <td id=\"T_984ac_row14_col4\" class=\"data row14 col4\" >0.8761</td>\n",
       "      <td id=\"T_984ac_row14_col5\" class=\"data row14 col5\" >0.8033</td>\n",
       "      <td id=\"T_984ac_row14_col6\" class=\"data row14 col6\" >0.7169</td>\n",
       "      <td id=\"T_984ac_row14_col7\" class=\"data row14 col7\" >0.7221</td>\n",
       "      <td id=\"T_984ac_row14_col8\" class=\"data row14 col8\" >0.0670</td>\n",
       "    </tr>\n",
       "    <tr>\n",
       "      <th id=\"T_984ac_level0_row15\" class=\"row_heading level0 row15\" >dummy</th>\n",
       "      <td id=\"T_984ac_row15_col0\" class=\"data row15 col0\" >Dummy Classifier</td>\n",
       "      <td id=\"T_984ac_row15_col1\" class=\"data row15 col1\" >0.6672</td>\n",
       "      <td id=\"T_984ac_row15_col2\" class=\"data row15 col2\" >0.5000</td>\n",
       "      <td id=\"T_984ac_row15_col3\" class=\"data row15 col3\" >0.0000</td>\n",
       "      <td id=\"T_984ac_row15_col4\" class=\"data row15 col4\" >0.0000</td>\n",
       "      <td id=\"T_984ac_row15_col5\" class=\"data row15 col5\" >0.0000</td>\n",
       "      <td id=\"T_984ac_row15_col6\" class=\"data row15 col6\" >0.0000</td>\n",
       "      <td id=\"T_984ac_row15_col7\" class=\"data row15 col7\" >0.0000</td>\n",
       "      <td id=\"T_984ac_row15_col8\" class=\"data row15 col8\" >0.0530</td>\n",
       "    </tr>\n",
       "  </tbody>\n",
       "</table>\n"
      ],
      "text/plain": [
       "<pandas.io.formats.style.Styler at 0x2480a582a30>"
      ]
     },
     "metadata": {},
     "output_type": "display_data"
    },
    {
     "data": {
      "text/html": [],
      "text/plain": [
       "<IPython.core.display.HTML object>"
      ]
     },
     "metadata": {},
     "output_type": "display_data"
    },
    {
     "data": {
      "text/plain": [
       "<catboost.core.CatBoostClassifier at 0x248106b9a00>"
      ]
     },
     "execution_count": 130,
     "metadata": {},
     "output_type": "execute_result"
    }
   ],
   "source": [
    "s.compare_models()"
   ]
  }
 ],
 "metadata": {
  "kernelspec": {
   "display_name": "Python 3",
   "language": "python",
   "name": "python3"
  },
  "language_info": {
   "codemirror_mode": {
    "name": "ipython",
    "version": 3
   },
   "file_extension": ".py",
   "mimetype": "text/x-python",
   "name": "python",
   "nbconvert_exporter": "python",
   "pygments_lexer": "ipython3",
   "version": "3.9.12"
  }
 },
 "nbformat": 4,
 "nbformat_minor": 2
}
